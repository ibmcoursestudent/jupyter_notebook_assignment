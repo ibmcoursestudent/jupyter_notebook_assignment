{
 "cells": [
  {
   "cell_type": "markdown",
   "id": "4612c6d8",
   "metadata": {},
   "source": [
    "# My Jupyter Notebook on IBM Watson Studio"
   ]
  },
  {
   "cell_type": "markdown",
   "id": "a10a5d85",
   "metadata": {},
   "source": [
    "**Darrell Larsen**\n",
    "\n",
    "Data Scientist"
   ]
  },
  {
   "cell_type": "markdown",
   "id": "f534e4ef",
   "metadata": {},
   "source": [
    "_I am interested in data science because its methods allow us to make sense of large amounts of data relatively quickly. I am especially interested in algorithms that make it possible for computers to \"learn\" and use language._ \n"
   ]
  },
  {
   "cell_type": "markdown",
   "id": "78f31094",
   "metadata": {},
   "source": [
    "### The following code demonstrates Python's ability to do basic addition."
   ]
  },
  {
   "cell_type": "code",
   "execution_count": 1,
   "id": "e98519d6",
   "metadata": {},
   "outputs": [
    {
     "data": {
      "text/plain": [
       "2"
      ]
     },
     "execution_count": 1,
     "metadata": {},
     "output_type": "execute_result"
    }
   ],
   "source": [
    "1 + 1"
   ]
  },
  {
   "cell_type": "markdown",
   "id": "5a79584c",
   "metadata": {},
   "source": [
    "Can you guess what the output of the following Python statements would be?\n",
    "\n",
    "- `2 - 1`\n",
    "- `2 * 2`\n",
    "- `10 / 2`\n",
    "\n",
    "You can find more information about ~~Jupiter~~ Jupyter Notebooks through [Google](https://www.google.com)."
   ]
  }
 ],
 "metadata": {
  "kernelspec": {
   "display_name": "Python 3 (ipykernel)",
   "language": "python",
   "name": "python3"
  },
  "language_info": {
   "codemirror_mode": {
    "name": "ipython",
    "version": 3
   },
   "file_extension": ".py",
   "mimetype": "text/x-python",
   "name": "python",
   "nbconvert_exporter": "python",
   "pygments_lexer": "ipython3",
   "version": "3.10.6"
  }
 },
 "nbformat": 4,
 "nbformat_minor": 5
}
